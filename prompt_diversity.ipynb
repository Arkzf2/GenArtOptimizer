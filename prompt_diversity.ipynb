{
 "cells": [
  {
   "cell_type": "code",
   "execution_count": 1,
   "metadata": {},
   "outputs": [],
   "source": [
    "import gpt_prompt as gp\n",
    "import numpy as np\n",
    "import matplotlib.pyplot as plt\n",
    "from tqdm.notebook import tqdm"
   ]
  },
  {
   "cell_type": "code",
   "execution_count": 2,
   "metadata": {},
   "outputs": [],
   "source": [
    "def unique_elements_count(big_list):\n",
    "    unique_set = set()\n",
    "    for lst in big_list:\n",
    "        unique_set.update(lst)\n",
    "    return len(unique_set)"
   ]
  },
  {
   "cell_type": "code",
   "execution_count": 3,
   "metadata": {},
   "outputs": [],
   "source": [
    "def analysis(func, init_prompt_list):\n",
    "\n",
    "    progress_bar = tqdm(total=100, desc='Total Progress')\n",
    "\n",
    "    unique_elements_list = []\n",
    "    \n",
    "    for init_prompt in init_prompt_list:\n",
    "        big_list = []\n",
    "        for i in range(10):\n",
    "            lst = func(init_prompt)\n",
    "            big_list.append(lst)\n",
    "            progress_bar.update(1)\n",
    "        unique_rate = unique_elements_count(big_list) / 3\n",
    "        unique_elements_list.append(unique_rate)\n",
    "\n",
    "    plt.title(f\"Unique elements for modifier: {func}\")\n",
    "    plt.bar(range(1, 11), unique_elements_list)\n",
    "    plt.xlabel(\"Initial Prompt Index\")\n",
    "    plt.ylabel(\"Unique Elements Rate (%)\")\n",
    "    plt.show()\n",
    "\n",
    "    avg_unique_rate = np.mean(unique_elements_list)\n",
    "\n",
    "    print(f'Average unique rate for one prompt: {avg_unique_rate}%')\n"
   ]
  },
  {
   "cell_type": "code",
   "execution_count": 4,
   "metadata": {},
   "outputs": [],
   "source": [
    "def analysis_(func, init_prompt_list):\n",
    "\n",
    "    progress_bar = tqdm(total=100, desc='Total Progress')\n",
    "\n",
    "    avg_unique_rate = 0\n",
    "\n",
    "    for i in range(10):\n",
    "    \n",
    "        big_list = []\n",
    "        for init_prompt in init_prompt_list:\n",
    "            lst = func(init_prompt)\n",
    "            big_list.append(lst)\n",
    "            progress_bar.update(1)\n",
    "        unique_rate = unique_elements_count(big_list) / 3\n",
    "\n",
    "        avg_unique_rate += unique_rate / 10\n",
    "\n",
    "    print(f'Average unique rate for ten prompts: {avg_unique_rate}%')"
   ]
  },
  {
   "cell_type": "code",
   "execution_count": 5,
   "metadata": {},
   "outputs": [],
   "source": [
    "init_prompt_list = ['close-up, a woman face, block colors', 'a young woman, wearing black dress, on the steps', 'zeus, full body, golden armor', 'a woman wearing golden headgear, cyan color, sci-fi', 'a close-up face of a girl, surrounded by flowers', 'a young woman, wearing a futuristic bionic clothes, crab claws on head', 'An astronaut, exploring among meteorites', 'Medieval catholic church port at night, illuminated', 'a white-hair man, with sunglasses and white suit, walking in flowers', 'magic rainforest']"
   ]
  },
  {
   "cell_type": "code",
   "execution_count": 6,
   "metadata": {},
   "outputs": [
    {
     "data": {
      "application/vnd.jupyter.widget-view+json": {
       "model_id": "7fd15ce1a14a406b947255f73bc281de",
       "version_major": 2,
       "version_minor": 0
      },
      "text/plain": [
       "Total Progress:   0%|          | 0/100 [00:00<?, ?it/s]"
      ]
     },
     "metadata": {},
     "output_type": "display_data"
    },
    {
     "data": {
      "image/png": "[encoded data removed]",
      "text/plain": [
       "<Figure size 432x288 with 1 Axes>"
      ]
     },
     "metadata": {
      "needs_background": "light"
     },
     "output_type": "display_data"
    },
    {
     "name": "stdout",
     "output_type": "stream",
     "text": [
      "Average unique rate for one prompt: 94.93333333333334%\n"
     ]
    },
    {
     "data": {
      "application/vnd.jupyter.widget-view+json": {
       "model_id": "95d643ae3d77478da1bc179f85c22ca8",
       "version_major": 2,
       "version_minor": 0
      },
      "text/plain": [
       "Total Progress:   0%|          | 0/100 [00:00<?, ?it/s]"
      ]
     },
     "metadata": {},
     "output_type": "display_data"
    },
    {
     "name": "stdout",
     "output_type": "stream",
     "text": [
      "Average unique rate for ten prompts: 97.16666666666667%\n"
     ]
    }
   ],
   "source": [
    "analysis(gp.subject, init_prompt_list)\n",
    "analysis_(gp.subject, init_prompt_list)"
   ]
  },
  {
   "cell_type": "code",
   "execution_count": 7,
   "metadata": {},
   "outputs": [
    {
     "data": {
      "application/vnd.jupyter.widget-view+json": {
       "model_id": "b2a5e183c092425896fa4cb386d02176",
       "version_major": 2,
       "version_minor": 0
      },
      "text/plain": [
       "Total Progress:   0%|          | 0/100 [00:00<?, ?it/s]"
      ]
     },
     "metadata": {},
     "output_type": "display_data"
    },
    {
     "data": {
      "image/png": "[encoded data removed]",
      "text/plain": [
       "<Figure size 432x288 with 1 Axes>"
      ]
     },
     "metadata": {
      "needs_background": "light"
     },
     "output_type": "display_data"
    },
    {
     "name": "stdout",
     "output_type": "stream",
     "text": [
      "Average unique rate for one prompt: 49.43333333333332%\n"
     ]
    },
    {
     "data": {
      "application/vnd.jupyter.widget-view+json": {
       "model_id": "0b72acf81d0940c4a093e2e3c026aa11",
       "version_major": 2,
       "version_minor": 0
      },
      "text/plain": [
       "Total Progress:   0%|          | 0/100 [00:00<?, ?it/s]"
      ]
     },
     "metadata": {},
     "output_type": "display_data"
    },
    {
     "name": "stdout",
     "output_type": "stream",
     "text": [
      "Average unique rate for ten prompts: 68.63333333333334%\n"
     ]
    }
   ],
   "source": [
    "analysis(gp.visual_art_style, init_prompt_list)\n",
    "analysis_(gp.visual_art_style, init_prompt_list)"
   ]
  },
  {
   "cell_type": "code",
   "execution_count": 8,
   "metadata": {},
   "outputs": [
    {
     "data": {
      "application/vnd.jupyter.widget-view+json": {
       "model_id": "b4d0d6a8359b41a589a2fba78aa29068",
       "version_major": 2,
       "version_minor": 0
      },
      "text/plain": [
       "Total Progress:   0%|          | 0/100 [00:00<?, ?it/s]"
      ]
     },
     "metadata": {},
     "output_type": "display_data"
    },
    {
     "data": {
      "image/png": "[encoded data removed]",
      "text/plain": [
       "<Figure size 432x288 with 1 Axes>"
      ]
     },
     "metadata": {
      "needs_background": "light"
     },
     "output_type": "display_data"
    },
    {
     "name": "stdout",
     "output_type": "stream",
     "text": [
      "Average unique rate for one prompt: 44.733333333333334%\n"
     ]
    },
    {
     "data": {
      "application/vnd.jupyter.widget-view+json": {
       "model_id": "2d60cfa1c3f944738043eae7089c452b",
       "version_major": 2,
       "version_minor": 0
      },
      "text/plain": [
       "Total Progress:   0%|          | 0/100 [00:00<?, ?it/s]"
      ]
     },
     "metadata": {},
     "output_type": "display_data"
    },
    {
     "name": "stdout",
     "output_type": "stream",
     "text": [
      "Average unique rate for ten prompts: 65.93333333333334%\n"
     ]
    }
   ],
   "source": [
    "analysis(gp.artist_style, init_prompt_list)\n",
    "analysis_(gp.artist_style, init_prompt_list)"
   ]
  },
  {
   "cell_type": "code",
   "execution_count": 9,
   "metadata": {},
   "outputs": [
    {
     "data": {
      "application/vnd.jupyter.widget-view+json": {
       "model_id": "a454e00629ef47f9b71a9976b6856248",
       "version_major": 2,
       "version_minor": 0
      },
      "text/plain": [
       "Total Progress:   0%|          | 0/100 [00:00<?, ?it/s]"
      ]
     },
     "metadata": {},
     "output_type": "display_data"
    },
    {
     "data": {
      "image/png": "[encoded data removed]",
      "text/plain": [
       "<Figure size 432x288 with 1 Axes>"
      ]
     },
     "metadata": {
      "needs_background": "light"
     },
     "output_type": "display_data"
    },
    {
     "name": "stdout",
     "output_type": "stream",
     "text": [
      "Average unique rate for one prompt: 66.6%\n"
     ]
    },
    {
     "data": {
      "application/vnd.jupyter.widget-view+json": {
       "model_id": "ec3e4a7fddea46388e13455a262c0fc5",
       "version_major": 2,
       "version_minor": 0
      },
      "text/plain": [
       "Total Progress:   0%|          | 0/100 [00:00<?, ?it/s]"
      ]
     },
     "metadata": {},
     "output_type": "display_data"
    },
    {
     "name": "stdout",
     "output_type": "stream",
     "text": [
      "Average unique rate for ten prompts: 96.5%\n"
     ]
    }
   ],
   "source": [
    "analysis(gp.color_style, init_prompt_list)\n",
    "analysis_(gp.color_style, init_prompt_list)"
   ]
  },
  {
   "cell_type": "code",
   "execution_count": 10,
   "metadata": {},
   "outputs": [
    {
     "data": {
      "application/vnd.jupyter.widget-view+json": {
       "model_id": "ff2f86cabcb24da78066e028480a2185",
       "version_major": 2,
       "version_minor": 0
      },
      "text/plain": [
       "Total Progress:   0%|          | 0/100 [00:00<?, ?it/s]"
      ]
     },
     "metadata": {},
     "output_type": "display_data"
    },
    {
     "data": {
      "image/png": "[encoded data removed]",
      "text/plain": [
       "<Figure size 432x288 with 1 Axes>"
      ]
     },
     "metadata": {
      "needs_background": "light"
     },
     "output_type": "display_data"
    },
    {
     "name": "stdout",
     "output_type": "stream",
     "text": [
      "Average unique rate for one prompt: 87.7%\n"
     ]
    },
    {
     "data": {
      "application/vnd.jupyter.widget-view+json": {
       "model_id": "eb19004c92a74e59991fdf729c5151d6",
       "version_major": 2,
       "version_minor": 0
      },
      "text/plain": [
       "Total Progress:   0%|          | 0/100 [00:00<?, ?it/s]"
      ]
     },
     "metadata": {},
     "output_type": "display_data"
    },
    {
     "name": "stdout",
     "output_type": "stream",
     "text": [
      "Average unique rate for ten prompts: 99.66666666666667%\n"
     ]
    }
   ],
   "source": [
    "analysis(gp.perspective_style, init_prompt_list)\n",
    "analysis_(gp.perspective_style, init_prompt_list)"
   ]
  },
  {
   "cell_type": "code",
   "execution_count": 11,
   "metadata": {},
   "outputs": [
    {
     "data": {
      "application/vnd.jupyter.widget-view+json": {
       "model_id": "dc1125801b354bc7b10319700f8e7a2d",
       "version_major": 2,
       "version_minor": 0
      },
      "text/plain": [
       "Total Progress:   0%|          | 0/100 [00:00<?, ?it/s]"
      ]
     },
     "metadata": {},
     "output_type": "display_data"
    },
    {
     "data": {
      "image/png": "[encoded data removed]",
      "text/plain": [
       "<Figure size 432x288 with 1 Axes>"
      ]
     },
     "metadata": {
      "needs_background": "light"
     },
     "output_type": "display_data"
    },
    {
     "name": "stdout",
     "output_type": "stream",
     "text": [
      "Average unique rate for one prompt: 87.33333333333334%\n"
     ]
    },
    {
     "data": {
      "application/vnd.jupyter.widget-view+json": {
       "model_id": "5156c0e5572140d98c97492f58e1e6a6",
       "version_major": 2,
       "version_minor": 0
      },
      "text/plain": [
       "Total Progress:   0%|          | 0/100 [00:00<?, ?it/s]"
      ]
     },
     "metadata": {},
     "output_type": "display_data"
    },
    {
     "name": "stdout",
     "output_type": "stream",
     "text": [
      "Average unique rate for ten prompts: 97.80000000000001%\n"
     ]
    }
   ],
   "source": [
    "analysis(gp.light_style, init_prompt_list)\n",
    "analysis_(gp.light_style, init_prompt_list)"
   ]
  },
  {
   "cell_type": "code",
   "execution_count": 12,
   "metadata": {},
   "outputs": [
    {
     "data": {
      "application/vnd.jupyter.widget-view+json": {
       "model_id": "2aab8e27d0a844b5b7e33ba2c8ffb408",
       "version_major": 2,
       "version_minor": 0
      },
      "text/plain": [
       "Total Progress:   0%|          | 0/100 [00:00<?, ?it/s]"
      ]
     },
     "metadata": {},
     "output_type": "display_data"
    },
    {
     "data": {
      "image/png": "[encoded data removed]",
      "text/plain": [
       "<Figure size 432x288 with 1 Axes>"
      ]
     },
     "metadata": {
      "needs_background": "light"
     },
     "output_type": "display_data"
    },
    {
     "name": "stdout",
     "output_type": "stream",
     "text": [
      "Average unique rate for one prompt: 58.266666666666666%\n"
     ]
    },
    {
     "data": {
      "application/vnd.jupyter.widget-view+json": {
       "model_id": "7e8c1e3223c34d0fa69a6534f2fc49ec",
       "version_major": 2,
       "version_minor": 0
      },
      "text/plain": [
       "Total Progress:   0%|          | 0/100 [00:00<?, ?it/s]"
      ]
     },
     "metadata": {},
     "output_type": "display_data"
    },
    {
     "name": "stdout",
     "output_type": "stream",
     "text": [
      "Average unique rate for ten prompts: 68.26666666666667%\n"
     ]
    }
   ],
   "source": [
    "analysis(gp.rendering_style, init_prompt_list)\n",
    "analysis_(gp.rendering_style, init_prompt_list)"
   ]
  }
 ],
 "metadata": {
  "kernelspec": {
   "display_name": "base",
   "language": "python",
   "name": "python3"
  },
  "language_info": {
   "codemirror_mode": {
    "name": "ipython",
    "version": 3
   },
   "file_extension": ".py",
   "mimetype": "text/x-python",
   "name": "python",
   "nbconvert_exporter": "python",
   "pygments_lexer": "ipython3",
   "version": "3.9.12"
  },
  "orig_nbformat": 4
 },
 "nbformat": 4,
 "nbformat_minor": 2
}
