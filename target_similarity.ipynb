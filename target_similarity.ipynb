{
 "cells": [
  {
   "cell_type": "code",
   "execution_count": 1,
   "metadata": {},
   "outputs": [],
   "source": [
    "import gpt_prompt\n",
    "import os\n",
    "import json\n",
    "import requests\n",
    "import time\n",
    "import re\n",
    "import numpy as np\n",
    "from PIL import Image\n",
    "from io import BytesIO\n",
    "from tqdm.notebook import tqdm\n",
    "import threading\n",
    "import numpy as np\n",
    "import matplotlib.pyplot as plt"
   ]
  },
  {
   "cell_type": "code",
   "execution_count": 2,
   "metadata": {},
   "outputs": [],
   "source": [
    "mj_api_key = os.getenv('MJ_API_KEY')"
   ]
  },
  {
   "cell_type": "code",
   "execution_count": 3,
   "metadata": {},
   "outputs": [],
   "source": [
    "def imagine(prompt):\n",
    "    headers = {\n",
    "    'Authorization': f'Bearer {mj_api_key}',\n",
    "    'Content-Type': 'application/json'\n",
    "    }\n",
    "\n",
    "    url = \"https://api.thenextleg.io/v2/imagine\"\n",
    "\n",
    "    payload_image = json.dumps({\n",
    "    \"msg\": prompt,\n",
    "    \"ref\": \"\",\n",
    "    \"webhookOverride\": \"\", \n",
    "    \"ignorePrefilter\": \"false\"\n",
    "    })\n",
    "\n",
    "    def check_task_status(url):\n",
    "        while True:\n",
    "            response_result = requests.request(\"GET\", url, headers=headers)\n",
    "            if response_result.status_code == 200:\n",
    "                json_response = json.loads(response_result.text)\n",
    "                progress = json_response['progress']\n",
    "                if progress == 100:\n",
    "                    return json_response[\"response\"]['imageUrl'], json_response[\"response\"]['imageUrls']\n",
    "            else:\n",
    "                print(f\"Request failed, status code: {response_result.status_code}\")\n",
    "            time.sleep(3)\n",
    "\n",
    "    attempts = 0\n",
    "    max_attempts = 3\n",
    "    while attempts <= max_attempts:\n",
    "        time.sleep(1)\n",
    "        messageId = None\n",
    "        response_image = requests.request(\"POST\", url, headers=headers, data=payload_image)\n",
    "        if response_image.status_code == 200:\n",
    "            messageId = response_image.json().get('messageId')\n",
    "\n",
    "        url_with_id = f\"https://api.thenextleg.io/v2/message/{messageId}?expireMins=2\"\n",
    "        \n",
    "        if messageId:\n",
    "            img_url, img_urls = check_task_status(url_with_id)\n",
    "            if img_url is not None and img_url != '':\n",
    "                return img_url, img_urls\n",
    "            else:\n",
    "                attempts += 1\n",
    "    raise ValueError(\"Unable to get valid image URL after multiple attempts\")\n"
   ]
  },
  {
   "cell_type": "code",
   "execution_count": 4,
   "metadata": {},
   "outputs": [],
   "source": [
    "def describe(image_url):\n",
    "    url = \"https://api.thenextleg.io/v2/describe\"\n",
    "    payload = json.dumps({\n",
    "    \"url\": image_url,\n",
    "    \"ref\": \"\",\n",
    "    \"webhookOverride\": \"\"\n",
    "    })\n",
    "    headers = {\n",
    "    'Authorization': f'Bearer {mj_api_key}',\n",
    "    'Content-Type': 'application/json'\n",
    "    }\n",
    "\n",
    "    def check_task_status(url):\n",
    "        while True:\n",
    "            response_result = requests.request(\"GET\", url, headers=headers)\n",
    "            if response_result.status_code == 200:\n",
    "                json_response = json.loads(response_result.text)\n",
    "                progress = json_response['progress']\n",
    "                if progress == 100:\n",
    "                    return json_response[\"response\"]['content']\n",
    "            else:\n",
    "                print(f\"Request failed, status code: {response_result.status_code}\")\n",
    "            time.sleep(2)\n",
    "\n",
    "    attempts = 0\n",
    "    max_attempts = 3\n",
    "    while attempts <= max_attempts:\n",
    "        time.sleep(1)\n",
    "        messageId = None\n",
    "        response_image = requests.request(\"POST\", url, headers=headers, data=payload)\n",
    "        if response_image.status_code == 200 and response_image.json().get('success') == True:\n",
    "            messageId = response_image.json().get('messageId')\n",
    "\n",
    "        url_with_id = f\"https://api.thenextleg.io/v2/message/{messageId}?expireMins=2\"\n",
    "        \n",
    "        if messageId:\n",
    "            texts = check_task_status(url_with_id)\n",
    "            if texts is not None and texts != '':\n",
    "                cleaned_texts = [re.sub(r'\\[(.*?)\\]', r'\\1', item) for item in texts]\n",
    "                cleaned_texts = [re.sub(r'\\(.*?\\)', '', item) for item in cleaned_texts]\n",
    "                cleaned_texts = [re.sub(r',\\s*,', ',', item).strip() for item in cleaned_texts]\n",
    "\n",
    "                return cleaned_texts\n",
    "            else:\n",
    "                attempts += 1\n",
    "    raise ValueError(\"Unable to get valid image URL after multiple attempts\")"
   ]
  },
  {
   "cell_type": "code",
   "execution_count": 5,
   "metadata": {},
   "outputs": [],
   "source": [
    "from transformers import AutoTokenizer, AutoModel\n",
    "import torch\n",
    "import torch.nn.functional as F\n",
    "\n",
    "# Load model and tokenizer from HuggingFace Hub\n",
    "tokenizer = AutoTokenizer.from_pretrained('sentence-transformers/all-mpnet-base-v2')\n",
    "model = AutoModel.from_pretrained('sentence-transformers/all-mpnet-base-v2')\n",
    "\n",
    "# Mean Pooling - Take attention mask into account for correct averaging\n",
    "def mean_pooling(model_output, attention_mask):\n",
    "    token_embeddings = model_output[0]\n",
    "    input_mask_expanded = attention_mask.unsqueeze(-1).expand(token_embeddings.size()).float()\n",
    "    return torch.sum(token_embeddings * input_mask_expanded, 1) / torch.clamp(input_mask_expanded.sum(1), min=1e-9)\n",
    "\n",
    "def calculate_similarity(sentence1, sentence2):\n",
    "    # Tokenize sentences\n",
    "    encoded_input = tokenizer([sentence1, sentence2], padding=True, truncation=True, return_tensors='pt')\n",
    "\n",
    "    # Compute token embeddings\n",
    "    with torch.no_grad():\n",
    "        model_output = model(**encoded_input)\n",
    "\n",
    "    # Perform pooling\n",
    "    sentence_embeddings = mean_pooling(model_output, encoded_input['attention_mask'])\n",
    "\n",
    "    # Normalize embeddings\n",
    "    sentence_embeddings = F.normalize(sentence_embeddings, p=2, dim=1)\n",
    "\n",
    "    # Compute cosine similarity between the two embeddings\n",
    "    similarity = torch.nn.functional.cosine_similarity(sentence_embeddings[0].unsqueeze(0), sentence_embeddings[1].unsqueeze(0)).item()\n",
    "\n",
    "    return similarity"
   ]
  },
  {
   "cell_type": "code",
   "execution_count": 6,
   "metadata": {},
   "outputs": [],
   "source": [
    "def generation_target_similarity(prompt_list_5, target_texts):\n",
    "\n",
    "    # target_texts = describe(target_url)\n",
    "    \n",
    "    similarity_list = []\n",
    "    for text in prompt_list_5:\n",
    "        s = 0.0\n",
    "        for target_test in target_texts:\n",
    "            s += calculate_similarity(text, target_test) / 4\n",
    "        similarity_list.append(s)\n",
    "    \n",
    "    return similarity_list"
   ]
  },
  {
   "cell_type": "code",
   "execution_count": 7,
   "metadata": {},
   "outputs": [],
   "source": [
    "def run_with_timeout(func, args, timeout):\n",
    "    result_container = []\n",
    "\n",
    "    def worker():\n",
    "        result = func(*args)\n",
    "        if result is not None:\n",
    "            result_container.append(result)\n",
    "\n",
    "    thread = threading.Thread(target=worker)\n",
    "    thread.start()\n",
    "    thread.join(timeout=timeout)\n",
    "\n",
    "    if not result_container:\n",
    "        return run_with_timeout(func, args, timeout)\n",
    "    else:\n",
    "        return result_container[0]"
   ]
  },
  {
   "cell_type": "code",
   "execution_count": 41,
   "metadata": {},
   "outputs": [],
   "source": [
    "def find_most_similar(init_prompt, target_texts, mutate_rate):\n",
    "\n",
    "    prompt_mat, keyword_mat = gpt_prompt.generate(init_prompt, 5)\n",
    "    prompt_list = [gpt_prompt.list2str(prompt) for prompt in prompt_mat]\n",
    "    similarity_list = generation_target_similarity(prompt_list, target_texts)\n",
    "    \n",
    "    i = 1\n",
    "    most_similar_rate = 0.0\n",
    "    most_similar_prompt = init_prompt\n",
    "\n",
    "    while i < 3:\n",
    "        i += 1\n",
    "        # print(similarity_list)\n",
    "        max_val_1 = max(similarity_list)\n",
    "        max_idx_1 = similarity_list.index(max_val_1)\n",
    "\n",
    "        if max_val_1 > most_similar_rate:\n",
    "            most_similar_rate = max_val_1\n",
    "            most_similar_prompt = gpt_prompt.list2str(prompt_mat[max_idx_1])\n",
    "\n",
    "        similarity_list[max_idx_1] = float('-inf')\n",
    "        max_val_2 = max(similarity_list)\n",
    "        max_idx_2 = similarity_list.index(max_val_2)\n",
    "\n",
    "        prompt_A = prompt_mat[max_idx_1]\n",
    "        prompt_B = prompt_mat[max_idx_2]\n",
    "        rate_list = [int(max_val_1 * 10)] * 5\n",
    "        prompt_mat = gpt_prompt.genetic(prompt_A, prompt_B, rate_list, keyword_mat, mutate_rate)\n",
    "        prompt_list = [gpt_prompt.list2str(prompt) for prompt in prompt_mat]\n",
    "        similarity_list = generation_target_similarity(prompt_list, target_texts)\n",
    "    \n",
    "    return most_similar_rate, most_similar_prompt\n",
    "\n",
    "    # print(similarity_list)\n",
    "    # print(f'max similarity: {most_similar_rate}')\n",
    "\n",
    "    # img_url, img_urls = imagine(init_prompt)\n",
    "    # response = requests.get(img_url)\n",
    "    # init_image = Image.open(BytesIO(response.content))\n",
    "    # print('initial image')\n",
    "    # display(init_image)\n",
    "\n",
    "    # img_url, img_urls = imagine(most_similar_prompt)\n",
    "    # response = requests.get(img_url)\n",
    "    # image = Image.open(BytesIO(response.content))\n",
    "    # print('most similar image')\n",
    "    # display(image)\n",
    "\n",
    "    # target_response = requests.get(target_url)\n",
    "    # target_image = Image.open(BytesIO(target_response.content))\n",
    "    # print('target image')\n",
    "    # display(target_image)"
   ]
  },
  {
   "cell_type": "code",
   "execution_count": 9,
   "metadata": {},
   "outputs": [],
   "source": [
    "init_prompt_list_mid = ['lace pattern', 'stylish building design', 'zeus, golden armor', 'a woman wearing golden headgear, cyan color', 'a blueberry cake', 'a young woman, wearing futuristic bionic clothes, crab claws on head', 'An astronaut, exploring among meteorites', 'Catholic church port, illuminated', 'a white-hair man, with sunglasses and suit, walking in flowers', 'magic rainforest']\n",
    "target_url_list_mid = ['https://prompthero.com/rails/active_storage/representations/proxy/eyJfcmFpbHMiOnsibWVzc2FnZSI6IkJBaEpJaWs1WkROaU1qRmtaQzB6WVRFd0xUUmpNamN0WVRZNU5pMHpZamN4WWpSaE1qSXlPRE1HT2daRlZBPT0iLCJleHAiOm51bGwsInB1ciI6ImJsb2JfaWQifX0=--68325ff3ef966d2f3f439c58e3199c0f9768ccec/eyJfcmFpbHMiOnsibWVzc2FnZSI6IkJBaDdDRG9MWm05eWJXRjBPZ2wzWldKd09oUnlaWE5wZW1WZmRHOWZiR2x0YVhSYkIya0NBQWd3T2dwellYWmxjbnNKT2hOemRXSnpZVzF3YkdWZmJXOWtaVWtpQjI5dUJqb0dSVlE2Q25OMGNtbHdWRG9PYVc1MFpYSnNZV05sVkRvTWNYVmhiR2wwZVdsZiIsImV4cCI6bnVsbCwicHVyIjoidmFyaWF0aW9uIn19--935666d13f63ed5aca9daa2416340e3a90b6014e/prompthero-prompt-78657514b00.png', 'https://prompthero.com/rails/active_storage/representations/proxy/eyJfcmFpbHMiOnsibWVzc2FnZSI6IkJBaEpJaWswWmpWbVlXUTJZUzFrTlRrNExUUTVZak10T1RKa1lTMHpPRGsxWVRFM05UZGhaakVHT2daRlZBPT0iLCJleHAiOm51bGwsInB1ciI6ImJsb2JfaWQifX0=--602d52a95fb0c04a586ecfb269c50dde34f5cc9e/eyJfcmFpbHMiOnsibWVzc2FnZSI6IkJBaDdDRG9MWm05eWJXRjBPZ2wzWldKd09oUnlaWE5wZW1WZmRHOWZiR2x0YVhSYkIya0NBQWd3T2dwellYWmxjbnNKT2hOemRXSnpZVzF3YkdWZmJXOWtaVWtpQjI5dUJqb0dSVlE2Q25OMGNtbHdWRG9PYVc1MFpYSnNZV05sVkRvTWNYVmhiR2wwZVdsZiIsImV4cCI6bnVsbCwicHVyIjoidmFyaWF0aW9uIn19--935666d13f63ed5aca9daa2416340e3a90b6014e/prompthero-prompt-84446170705.jpg', 'https://prompthero.com/rails/active_storage/representations/proxy/eyJfcmFpbHMiOnsibWVzc2FnZSI6IkJBaEpJaWt3TURNeU1EWmpaQzAxWlRKakxUUXdZVFV0WVdVMll5MWtOekZoT0RVMFlXTmhPR1VHT2daRlZBPT0iLCJleHAiOm51bGwsInB1ciI6ImJsb2JfaWQifX0=--5f33e24124ffb9955f7780934ecfba3bd0b5fc06/eyJfcmFpbHMiOnsibWVzc2FnZSI6IkJBaDdDRG9MWm05eWJXRjBPZ2wzWldKd09oUnlaWE5wZW1WZmRHOWZiR2x0YVhSYkIya0NBQWd3T2dwellYWmxjbnNKT2hOemRXSnpZVzF3YkdWZmJXOWtaVWtpQjI5dUJqb0dSVlE2Q25OMGNtbHdWRG9PYVc1MFpYSnNZV05sVkRvTWNYVmhiR2wwZVdsZiIsImV4cCI6bnVsbCwicHVyIjoidmFyaWF0aW9uIn19--935666d13f63ed5aca9daa2416340e3a90b6014e/prompthero-prompt-4f3935abc3e.png', 'https://prompthero.com/rails/active_storage/representations/proxy/eyJfcmFpbHMiOnsibWVzc2FnZSI6IkJBaEpJaWs1TkdVNVlqRTVaaTB3TkRBekxUUmxaV0V0T1RsallpMHdaVGN6T1RSbFpUWTNaakVHT2daRlZBPT0iLCJleHAiOm51bGwsInB1ciI6ImJsb2JfaWQifX0=--16e8bed6d4afaea53530d910f49e346f72cd9413/eyJfcmFpbHMiOnsibWVzc2FnZSI6IkJBaDdDRG9MWm05eWJXRjBPZ2wzWldKd09oUnlaWE5wZW1WZmRHOWZiR2x0YVhSYkIya0NBQWd3T2dwellYWmxjbnNKT2hOemRXSnpZVzF3YkdWZmJXOWtaVWtpQjI5dUJqb0dSVlE2Q25OMGNtbHdWRG9PYVc1MFpYSnNZV05sVkRvTWNYVmhiR2wwZVdsZiIsImV4cCI6bnVsbCwicHVyIjoidmFyaWF0aW9uIn19--935666d13f63ed5aca9daa2416340e3a90b6014e/prompthero-prompt-0d47d62f936.png', 'https://prompthero.com/rails/active_storage/representations/proxy/eyJfcmFpbHMiOnsibWVzc2FnZSI6IkJBaEpJaWxqTnpjMVpESm1PQzFrT0RKbExUUTFNbVl0T0dFNFpTMHdPVE01WXpWaFpEZ3dPR0lHT2daRlZBPT0iLCJleHAiOm51bGwsInB1ciI6ImJsb2JfaWQifX0=--11f647d7bca02f09c5a90da50b950e4f36e6399d/eyJfcmFpbHMiOnsibWVzc2FnZSI6IkJBaDdDRG9MWm05eWJXRjBPZ2wzWldKd09oUnlaWE5wZW1WZmRHOWZiR2x0YVhSYkIya0NBQWd3T2dwellYWmxjbnNKT2hOemRXSnpZVzF3YkdWZmJXOWtaVWtpQjI5dUJqb0dSVlE2Q25OMGNtbHdWRG9PYVc1MFpYSnNZV05sVkRvTWNYVmhiR2wwZVdsZiIsImV4cCI6bnVsbCwicHVyIjoidmFyaWF0aW9uIn19--935666d13f63ed5aca9daa2416340e3a90b6014e/prompthero-prompt-edcae7e6053.png', 'https://prompthero.com/rails/active_storage/representations/proxy/eyJfcmFpbHMiOnsibWVzc2FnZSI6IkJBaEpJaWxpTWpJNVpUbGtaQzAxTmpKaExUUmxOVEl0WVRjNE5TMWpNelU0TnpJM01qWmtOVEFHT2daRlZBPT0iLCJleHAiOm51bGwsInB1ciI6ImJsb2JfaWQifX0=--420d4bbae5b5f3e181aed36a8631b34afd92f57e/eyJfcmFpbHMiOnsibWVzc2FnZSI6IkJBaDdDRG9MWm05eWJXRjBPZ2wzWldKd09oUnlaWE5wZW1WZmRHOWZiR2x0YVhSYkIya0NBQWd3T2dwellYWmxjbnNKT2hOemRXSnpZVzF3YkdWZmJXOWtaVWtpQjI5dUJqb0dSVlE2Q25OMGNtbHdWRG9PYVc1MFpYSnNZV05sVkRvTWNYVmhiR2wwZVdsZiIsImV4cCI6bnVsbCwicHVyIjoidmFyaWF0aW9uIn19--935666d13f63ed5aca9daa2416340e3a90b6014e/prompthero-prompt-5d5a3934298.png', 'https://prompthero.com/rails/active_storage/representations/proxy/eyJfcmFpbHMiOnsibWVzc2FnZSI6IkJBaEpJaWt6TTJJME1HVTRaQzB3T0RjeUxUUTJNbVF0T0RSbFppMWhaalk1T0dJME5tSTFaRFVHT2daRlZBPT0iLCJleHAiOm51bGwsInB1ciI6ImJsb2JfaWQifX0=--21c8ea823c87641333721f93a4dc9af7e075eaab/eyJfcmFpbHMiOnsibWVzc2FnZSI6IkJBaDdDRG9MWm05eWJXRjBPZ2wzWldKd09oUnlaWE5wZW1WZmRHOWZiR2x0YVhSYkIya0NBQWd3T2dwellYWmxjbnNKT2hOemRXSnpZVzF3YkdWZmJXOWtaVWtpQjI5dUJqb0dSVlE2Q25OMGNtbHdWRG9PYVc1MFpYSnNZV05sVkRvTWNYVmhiR2wwZVdsZiIsImV4cCI6bnVsbCwicHVyIjoidmFyaWF0aW9uIn19--935666d13f63ed5aca9daa2416340e3a90b6014e/prompthero-prompt-7e5e345be49.png', 'https://prompthero.com/rails/active_storage/representations/proxy/eyJfcmFpbHMiOnsibWVzc2FnZSI6IkJBaEpJaWxoWW1aak5UWXpNQzFsTjJRMUxUUTNPV010T1RGbE1TMHpZV1l5Tm1RMU9UYzFZMkVHT2daRlZBPT0iLCJleHAiOm51bGwsInB1ciI6ImJsb2JfaWQifX0=--bfef8776175a081af473d150877195c7a539b9c2/eyJfcmFpbHMiOnsibWVzc2FnZSI6IkJBaDdDRG9MWm05eWJXRjBPZ2wzWldKd09oUnlaWE5wZW1WZmRHOWZiR2x0YVhSYkIya0NBQWd3T2dwellYWmxjbnNKT2hOemRXSnpZVzF3YkdWZmJXOWtaVWtpQjI5dUJqb0dSVlE2Q25OMGNtbHdWRG9PYVc1MFpYSnNZV05sVkRvTWNYVmhiR2wwZVdsZiIsImV4cCI6bnVsbCwicHVyIjoidmFyaWF0aW9uIn19--935666d13f63ed5aca9daa2416340e3a90b6014e/prompthero-prompt-d5f31d13d05.png', 'https://prompthero.com/rails/active_storage/representations/proxy/eyJfcmFpbHMiOnsibWVzc2FnZSI6IkJBaEpJaWxtTm1FeVlUZGlNQzAyTkdJNUxUUTJabU10T0dVeFlTMHpNR1k0WTJNNU1UVTNZaklHT2daRlZBPT0iLCJleHAiOm51bGwsInB1ciI6ImJsb2JfaWQifX0=--f65c8c163812d8669386c33544c86d85e858e997/eyJfcmFpbHMiOnsibWVzc2FnZSI6IkJBaDdDRG9MWm05eWJXRjBPZ2wzWldKd09oUnlaWE5wZW1WZmRHOWZiR2x0YVhSYkIya0NBQWd3T2dwellYWmxjbnNKT2hOemRXSnpZVzF3YkdWZmJXOWtaVWtpQjI5dUJqb0dSVlE2Q25OMGNtbHdWRG9PYVc1MFpYSnNZV05sVkRvTWNYVmhiR2wwZVdsZiIsImV4cCI6bnVsbCwicHVyIjoidmFyaWF0aW9uIn19--935666d13f63ed5aca9daa2416340e3a90b6014e/prompthero-prompt-ff4e9b096e4.png', 'https://prompthero.com/rails/active_storage/representations/proxy/eyJfcmFpbHMiOnsibWVzc2FnZSI6IkJBaEpJaWxrWkdWaFlqSmxZUzB4WW1VMkxUUTROV0l0T0dVMk15MWtabUZoTWpjM01qTTJPR1FHT2daRlZBPT0iLCJleHAiOm51bGwsInB1ciI6ImJsb2JfaWQifX0=--51f1705f4415683edb408c1549e592b228391dce/eyJfcmFpbHMiOnsibWVzc2FnZSI6IkJBaDdDRG9MWm05eWJXRjBPZ2wzWldKd09oUnlaWE5wZW1WZmRHOWZiR2x0YVhSYkIya0NBQWd3T2dwellYWmxjbnNKT2hOemRXSnpZVzF3YkdWZmJXOWtaVWtpQjI5dUJqb0dSVlE2Q25OMGNtbHdWRG9PYVc1MFpYSnNZV05sVkRvTWNYVmhiR2wwZVdsZiIsImV4cCI6bnVsbCwicHVyIjoidmFyaWF0aW9uIn19--935666d13f63ed5aca9daa2416340e3a90b6014e/prompthero-prompt-a82e6bcc66d.png']\n",
    "init_prompt_list_niji = ['a black hair cool girl with tatoo', 'a cat underwater', 'a giant tree', 'a future soldier, with halmet and armor', 'a knight in black and red armor, holding a sword', 'a hooded white-hair girl, with face mask', 'a Chinese swordwoman', 'tattoo design of two dragons', 'a brave warrior, wearing a headscarf', 'a colorful anime building']\n",
    "target_url_list_niji = ['https://prompthero.com/rails/active_storage/representations/proxy/eyJfcmFpbHMiOnsibWVzc2FnZSI6IkJBaEpJaWsyWWpFME5ERTBOeTA1TmpsaExUUXlZMk10WW1RMU15MWlaRE0yWm1JNU9HRXhOVGtHT2daRlZBPT0iLCJleHAiOm51bGwsInB1ciI6ImJsb2JfaWQifX0=--3ed2755fb0537a03a4b92fecdf9305a4099fca15/eyJfcmFpbHMiOnsibWVzc2FnZSI6IkJBaDdDRG9MWm05eWJXRjBPZ2wzWldKd09oUnlaWE5wZW1WZmRHOWZiR2x0YVhSYkIya0NBQWd3T2dwellYWmxjbnNKT2hOemRXSnpZVzF3YkdWZmJXOWtaVWtpQjI5dUJqb0dSVlE2Q25OMGNtbHdWRG9PYVc1MFpYSnNZV05sVkRvTWNYVmhiR2wwZVdsZiIsImV4cCI6bnVsbCwicHVyIjoidmFyaWF0aW9uIn19--935666d13f63ed5aca9daa2416340e3a90b6014e/prompthero-prompt-0030a87c72d.png', 'https://prompthero.com/rails/active_storage/representations/proxy/eyJfcmFpbHMiOnsibWVzc2FnZSI6IkJBaEpJaWs0WkRjM1l6Y3hNUzAwTW1ZMkxUUXlObUl0T1dObVl5MDBNREUzTmpJME5HWTBZelVHT2daRlZBPT0iLCJleHAiOm51bGwsInB1ciI6ImJsb2JfaWQifX0=--b77f5fa10c8dc61d4a1f7116773434255a815bb6/eyJfcmFpbHMiOnsibWVzc2FnZSI6IkJBaDdDRG9MWm05eWJXRjBPZ2wzWldKd09oUnlaWE5wZW1WZmRHOWZiR2x0YVhSYkIya0NBQWd3T2dwellYWmxjbnNKT2hOemRXSnpZVzF3YkdWZmJXOWtaVWtpQjI5dUJqb0dSVlE2Q25OMGNtbHdWRG9PYVc1MFpYSnNZV05sVkRvTWNYVmhiR2wwZVdsZiIsImV4cCI6bnVsbCwicHVyIjoidmFyaWF0aW9uIn19--935666d13f63ed5aca9daa2416340e3a90b6014e/prompthero-prompt-9deac2e9ead.png', 'https://prompthero.com/rails/active_storage/representations/proxy/eyJfcmFpbHMiOnsibWVzc2FnZSI6IkJBaEpJaWs1WkRJMk9UWXdaUzAwT0RBNUxUUmhZVGN0T1dZeU15MWtOVGhsT0RFeFl6SmpZellHT2daRlZBPT0iLCJleHAiOm51bGwsInB1ciI6ImJsb2JfaWQifX0=--612563b4abc6b262d8334b3719a6071e4732da32/eyJfcmFpbHMiOnsibWVzc2FnZSI6IkJBaDdDRG9MWm05eWJXRjBPZ2wzWldKd09oUnlaWE5wZW1WZmRHOWZiR2x0YVhSYkIya0NBQWd3T2dwellYWmxjbnNKT2hOemRXSnpZVzF3YkdWZmJXOWtaVWtpQjI5dUJqb0dSVlE2Q25OMGNtbHdWRG9PYVc1MFpYSnNZV05sVkRvTWNYVmhiR2wwZVdsZiIsImV4cCI6bnVsbCwicHVyIjoidmFyaWF0aW9uIn19--935666d13f63ed5aca9daa2416340e3a90b6014e/prompthero-prompt-b7a44f9599b.png', 'https://prompthero.com/rails/active_storage/representations/proxy/eyJfcmFpbHMiOnsibWVzc2FnZSI6IkJBaEpJaWsyTW1RMVlUSXhNeTB3TjJWaUxUUTVZV1V0WWpSaU5DMHlNams1WW1NNU4yRXlNMlFHT2daRlZBPT0iLCJleHAiOm51bGwsInB1ciI6ImJsb2JfaWQifX0=--2d7365e1b09889704b0864a3f30cd34cc47e0fe6/eyJfcmFpbHMiOnsibWVzc2FnZSI6IkJBaDdDRG9MWm05eWJXRjBPZ2wzWldKd09oUnlaWE5wZW1WZmRHOWZiR2x0YVhSYkIya0NBQWd3T2dwellYWmxjbnNKT2hOemRXSnpZVzF3YkdWZmJXOWtaVWtpQjI5dUJqb0dSVlE2Q25OMGNtbHdWRG9PYVc1MFpYSnNZV05sVkRvTWNYVmhiR2wwZVdsZiIsImV4cCI6bnVsbCwicHVyIjoidmFyaWF0aW9uIn19--935666d13f63ed5aca9daa2416340e3a90b6014e/prompthero-prompt-30206c87277.jpg', 'https://prompthero.com/rails/active_storage/representations/proxy/eyJfcmFpbHMiOnsibWVzc2FnZSI6IkJBaEpJaWswTldFNE9UUTVOUzB3TjJNM0xUUTBPVGt0T1dSallTMDRabVppWVRJeFl6QmxNVE1HT2daRlZBPT0iLCJleHAiOm51bGwsInB1ciI6ImJsb2JfaWQifX0=--b6075e9c7e240ad0ab3ed000b395f065c4f7d79a/eyJfcmFpbHMiOnsibWVzc2FnZSI6IkJBaDdDRG9MWm05eWJXRjBPZ2wzWldKd09oUnlaWE5wZW1WZmRHOWZiR2x0YVhSYkIya0NBQWd3T2dwellYWmxjbnNKT2hOemRXSnpZVzF3YkdWZmJXOWtaVWtpQjI5dUJqb0dSVlE2Q25OMGNtbHdWRG9PYVc1MFpYSnNZV05sVkRvTWNYVmhiR2wwZVdsZiIsImV4cCI6bnVsbCwicHVyIjoidmFyaWF0aW9uIn19--935666d13f63ed5aca9daa2416340e3a90b6014e/prompthero-prompt-6356b572a31.png', 'https://prompthero.com/rails/active_storage/representations/proxy/eyJfcmFpbHMiOnsibWVzc2FnZSI6IkJBaEpJaWs0WVdReE1qTTJNUzFtWTJObUxUUmpPRFV0T1dNNU9DMWxOamhoTkRJMk1EaG1OR1VHT2daRlZBPT0iLCJleHAiOm51bGwsInB1ciI6ImJsb2JfaWQifX0=--2428c84d2c26494f29bf83b5780032a885aebcbb/eyJfcmFpbHMiOnsibWVzc2FnZSI6IkJBaDdDRG9MWm05eWJXRjBPZ2wzWldKd09oUnlaWE5wZW1WZmRHOWZiR2x0YVhSYkIya0NBQWd3T2dwellYWmxjbnNKT2hOemRXSnpZVzF3YkdWZmJXOWtaVWtpQjI5dUJqb0dSVlE2Q25OMGNtbHdWRG9PYVc1MFpYSnNZV05sVkRvTWNYVmhiR2wwZVdsZiIsImV4cCI6bnVsbCwicHVyIjoidmFyaWF0aW9uIn19--935666d13f63ed5aca9daa2416340e3a90b6014e/prompthero-prompt-55304fb42b3.png', 'https://prompthero.com/rails/active_storage/representations/proxy/eyJfcmFpbHMiOnsibWVzc2FnZSI6IkJBaEpJaWxoWVdReU9HWXdZaTAxWm1abUxUUXlZakV0WVRBMVpDMHdZV1prWXpNMlpqaGpNemdHT2daRlZBPT0iLCJleHAiOm51bGwsInB1ciI6ImJsb2JfaWQifX0=--acb50d206eb72c8765d300851f395e218bdc3305/eyJfcmFpbHMiOnsibWVzc2FnZSI6IkJBaDdDRG9MWm05eWJXRjBPZ2wzWldKd09oUnlaWE5wZW1WZmRHOWZiR2x0YVhSYkIya0NBQWd3T2dwellYWmxjbnNKT2hOemRXSnpZVzF3YkdWZmJXOWtaVWtpQjI5dUJqb0dSVlE2Q25OMGNtbHdWRG9PYVc1MFpYSnNZV05sVkRvTWNYVmhiR2wwZVdsZiIsImV4cCI6bnVsbCwicHVyIjoidmFyaWF0aW9uIn19--935666d13f63ed5aca9daa2416340e3a90b6014e/prompthero-prompt-b9398d4d1f9.png', 'https://prompthero.com/rails/active_storage/representations/proxy/eyJfcmFpbHMiOnsibWVzc2FnZSI6IkJBaEpJaWxoTnpGa1kySTFaUzFrTXpRMUxUUTNOREl0WWpsak1TMDVZV1ZrWkRsa1pXVm1NMk1HT2daRlZBPT0iLCJleHAiOm51bGwsInB1ciI6ImJsb2JfaWQifX0=--ed169a8e2a5b7c0d8a4ab1ec8c0ab2ece07c1add/eyJfcmFpbHMiOnsibWVzc2FnZSI6IkJBaDdDRG9MWm05eWJXRjBPZ2wzWldKd09oUnlaWE5wZW1WZmRHOWZiR2x0YVhSYkIya0NBQWd3T2dwellYWmxjbnNKT2hOemRXSnpZVzF3YkdWZmJXOWtaVWtpQjI5dUJqb0dSVlE2Q25OMGNtbHdWRG9PYVc1MFpYSnNZV05sVkRvTWNYVmhiR2wwZVdsZiIsImV4cCI6bnVsbCwicHVyIjoidmFyaWF0aW9uIn19--935666d13f63ed5aca9daa2416340e3a90b6014e/prompthero-prompt-fb1dc9553ab.webp', 'https://prompthero.com/rails/active_storage/representations/proxy/eyJfcmFpbHMiOnsibWVzc2FnZSI6IkJBaEpJaWszTVdFeE1UVmxZeTAwTnpVNUxUUmlNR1V0WWpFNU1TMDBaVEpsWkRNMFl6Sm1NV0VHT2daRlZBPT0iLCJleHAiOm51bGwsInB1ciI6ImJsb2JfaWQifX0=--c273c26f7efcde593f88a1e0bcd7d0acf31a5450/eyJfcmFpbHMiOnsibWVzc2FnZSI6IkJBaDdDRG9MWm05eWJXRjBPZ2wzWldKd09oUnlaWE5wZW1WZmRHOWZiR2x0YVhSYkIya0NBQWd3T2dwellYWmxjbnNKT2hOemRXSnpZVzF3YkdWZmJXOWtaVWtpQjI5dUJqb0dSVlE2Q25OMGNtbHdWRG9PYVc1MFpYSnNZV05sVkRvTWNYVmhiR2wwZVdsZiIsImV4cCI6bnVsbCwicHVyIjoidmFyaWF0aW9uIn19--935666d13f63ed5aca9daa2416340e3a90b6014e/prompthero-prompt-4d5078de612.png', 'https://prompthero.com/rails/active_storage/representations/proxy/eyJfcmFpbHMiOnsibWVzc2FnZSI6IkJBaEpJaWxrTVdRME5HRTJOeTFsTmpKaExUUTNabVl0WVdReFpTMDFNVEV5WVdGbE1UWTBaVGdHT2daRlZBPT0iLCJleHAiOm51bGwsInB1ciI6ImJsb2JfaWQifX0=--0ac2e6187efdb6f04396af7174c51f8942a10517/eyJfcmFpbHMiOnsibWVzc2FnZSI6IkJBaDdDRG9MWm05eWJXRjBPZ2wzWldKd09oUnlaWE5wZW1WZmRHOWZiR2x0YVhSYkIya0NBQWd3T2dwellYWmxjbnNKT2hOemRXSnpZVzF3YkdWZmJXOWtaVWtpQjI5dUJqb0dSVlE2Q25OMGNtbHdWRG9PYVc1MFpYSnNZV05sVkRvTWNYVmhiR2wwZVdsZiIsImV4cCI6bnVsbCwicHVyIjoidmFyaWF0aW9uIn19--935666d13f63ed5aca9daa2416340e3a90b6014e/prompthero-prompt-9c9ba44df36.png']"
   ]
  },
  {
   "cell_type": "code",
   "execution_count": 10,
   "metadata": {},
   "outputs": [],
   "source": [
    "target_texts_list_mid = []\n",
    "target_texts_list_niji = []\n",
    "init_similarity_list_mid = []\n",
    "init_similarity_list_niji = []\n",
    "\n",
    "for i in range(10):\n",
    "    target_url_mid = target_url_list_mid[i]\n",
    "    target_url_niji = target_url_list_niji[i]\n",
    "    init_mid = init_prompt_list_mid[i]\n",
    "    init_niji = init_prompt_list_niji[i]\n",
    "\n",
    "    target_texts_mid = run_with_timeout(describe, [target_url_mid], 120)\n",
    "    target_texts_niji = run_with_timeout(describe, [target_url_niji], 120)\n",
    "    target_texts_list_mid.append(target_texts_mid)\n",
    "    target_texts_list_niji.append(target_texts_niji)\n",
    "    \n",
    "    init_similarity_mid = np.mean([calculate_similarity(init_mid, text) for text in target_texts_mid])\n",
    "    init_similarity_niji = np.mean([calculate_similarity(init_niji, text) for text in target_texts_niji])\n",
    "    init_similarity_list_mid.append(init_similarity_mid)\n",
    "    init_similarity_list_niji.append(init_similarity_niji)"
   ]
  },
  {
   "cell_type": "code",
   "execution_count": 11,
   "metadata": {},
   "outputs": [],
   "source": [
    "def avg_list(mat):\n",
    "    averages = [sum(sublist) / len(sublist) for sublist in zip(*mat)]\n",
    "    return averages"
   ]
  },
  {
   "cell_type": "code",
   "execution_count": 42,
   "metadata": {},
   "outputs": [],
   "source": [
    "def analyze_similarity(mutate_rate):\n",
    "\n",
    "    most_similarity_mat_mid = []\n",
    "    init_similarity_mat_mid = []\n",
    "    most_similar_prompt_mat_mid = []\n",
    "    most_similarity_mat_niji = []\n",
    "    init_similarity_mat_niji = []\n",
    "    most_similar_prompt_mat_niji = []\n",
    "\n",
    "    progress_bar = tqdm(total=50, desc='Total Progress')\n",
    "\n",
    "    for i in range(5):\n",
    "\n",
    "        most_similarity_list_mid = []\n",
    "        most_similar_prompt_list_mid = []\n",
    "        most_similarity_list_niji = []\n",
    "        most_similar_prompt_list_niji = []\n",
    "\n",
    "        for j in range(10):\n",
    "\n",
    "            most_similarity_mid, most_similar_prompt_mid = find_most_similar(init_prompt_list_mid[j], target_texts_list_mid[j], mutate_rate)\n",
    "            most_similarity_niji, most_similar_prompt_niji = find_most_similar(init_prompt_list_niji[j], target_texts_list_niji[j], mutate_rate)\n",
    "            \n",
    "            most_similarity_list_mid.append(most_similarity_mid)\n",
    "            most_similar_prompt_list_mid.append(most_similar_prompt_mid)\n",
    "            most_similarity_list_niji.append(most_similarity_niji)\n",
    "            most_similar_prompt_list_niji.append(most_similar_prompt_niji)\n",
    "\n",
    "            progress_bar.update(1)\n",
    "        \n",
    "        most_similarity_mat_mid.append(most_similarity_list_mid)\n",
    "        most_similar_prompt_mat_mid.append(most_similar_prompt_list_mid)\n",
    "        most_similarity_mat_niji.append(most_similarity_list_niji)\n",
    "        most_similar_prompt_mat_niji.append(most_similar_prompt_list_niji)\n",
    "\n",
    "    most_similarity_avgs_mid = avg_list(most_similarity_mat_mid)\n",
    "    most_similarity_avgs_niji = avg_list(most_similarity_mat_niji)\n",
    "\n",
    "    # Analysis\n",
    "\n",
    "    print(f'Analysis for {mutate_rate} mutate rate')\n",
    "\n",
    "    barWidth = 0.3\n",
    "    r1 = np.arange(10)\n",
    "    r2 = [x + barWidth for x in r1]\n",
    "\n",
    "    plt.bar(r1, init_similarity_list_mid, color='#6c3376', width=barWidth, edgecolor='grey', label='init_similarity')\n",
    "    plt.bar(r2, most_similarity_avgs_mid, color='#98e08b', width=barWidth, edgecolor='grey', label='optimized_similarity')\n",
    "\n",
    "    plt.xlabel('target images', fontweight='bold', fontsize=15)\n",
    "    plt.xticks([r + barWidth for r in range(10)], ['img'+str(i) for i in range(1,11)])\n",
    "\n",
    "    plt.title('Midjourney Model V5.2')\n",
    "    plt.legend()\n",
    "    plt.show()\n",
    "\n",
    "    avg_init_similarity_list_mid = np.mean(init_similarity_list_mid)\n",
    "    print(f'Average initial similarity for Midjourney Model V5.2: {avg_init_similarity_list_mid}')\n",
    "    avg_optimized_similarity_mid = np.mean(most_similarity_avgs_mid)\n",
    "    print(f'Average optimized similarity for Midjourney Model V5.2: {avg_optimized_similarity_mid}')\n",
    "    avg_increase_mid = avg_optimized_similarity_mid - avg_init_similarity_list_mid\n",
    "    print(f'Average similarity increase for Midjourney Model V5.2: {avg_increase_mid}')\n",
    "\n",
    "    barWidth = 0.3\n",
    "    r1 = np.arange(10)\n",
    "    r2 = [x + barWidth for x in r1]\n",
    "\n",
    "    plt.bar(r1, init_similarity_list_niji, color='#6c3376', width=barWidth, edgecolor='grey', label='init_similarity')\n",
    "    plt.bar(r2, most_similarity_avgs_niji, color='#98e08b', width=barWidth, edgecolor='grey', label='optimized_similarity')\n",
    "\n",
    "    plt.xlabel('target images', fontweight='bold', fontsize=15)\n",
    "    plt.xticks([r + barWidth for r in range(10)], ['img'+str(i) for i in range(1,11)])\n",
    "\n",
    "    plt.title('Niji Model V5')\n",
    "    plt.legend()\n",
    "    plt.show() \n",
    "\n",
    "    avg_init_similarity_list_niji = np.mean(init_similarity_list_niji)\n",
    "    print(f'Average initial similarity for Niji Model V5: {avg_init_similarity_list_niji}')\n",
    "    avg_optimized_similarity_niji = np.mean(most_similarity_avgs_niji)\n",
    "    print(f'Average optimized similarity for Niji Model V5: {avg_optimized_similarity_niji}')\n",
    "    avg_increase_niji = avg_optimized_similarity_niji - avg_init_similarity_list_niji\n",
    "    print(f'Average similarity increase for Niji Model V5: {avg_increase_niji}')\n",
    "\n",
    "    return most_similar_prompt_mat_mid, most_similar_prompt_mat_niji, most_similarity_mat_mid, most_similarity_mat_niji"
   ]
  },
  {
   "cell_type": "code",
   "execution_count": 13,
   "metadata": {},
   "outputs": [
    {
     "data": {
      "application/vnd.jupyter.widget-view+json": {
       "model_id": "37017ef1aa8048dbae08d47c36cfa165",
       "version_major": 2,
       "version_minor": 0
      },
      "text/plain": [
       "Total Progress:   0%|          | 0/50 [00:00<?, ?it/s]"
      ]
     },
     "metadata": {},
     "output_type": "display_data"
    },
    {
     "name": "stdout",
     "output_type": "stream",
     "text": [
      "Analysis for medium mutate rate\n"
     ]
    },
    {
     "data": {
      "image/png": "[encoded data removed]",
      "text/plain": [
       "<Figure size 432x288 with 1 Axes>"
      ]
     },
     "metadata": {
      "needs_background": "light"
     },
     "output_type": "display_data"
    },
    {
     "name": "stdout",
     "output_type": "stream",
     "text": [
      "Average initial similarity for Midjourney Model V5.2: 0.47294514924287795\n",
      "Average optimized similarity for Midjourney Model V5.2: 0.6662062586843968\n",
      "Average similarity increase for Midjourney Model V5.2: 0.1932611094415188\n"
     ]
    },
    {
     "data": {
      "image/png": "[encoded data removed]",
      "text/plain": [
       "<Figure size 432x288 with 1 Axes>"
      ]
     },
     "metadata": {
      "needs_background": "light"
     },
     "output_type": "display_data"
    },
    {
     "name": "stdout",
     "output_type": "stream",
     "text": [
      "Average initial similarity for Niji Model V5: 0.4507384043186903\n",
      "Average optimized similarity for Niji Model V5: 0.6494360038638115\n",
      "Average similarity increase for Niji Model V5: 0.19869759954512123\n"
     ]
    }
   ],
   "source": [
    "most_similar_prompt_mat_mid, most_similar_prompt_mat_niji, most_similarity_mat_mid, most_similarity_mat_niji = analyze_similarity(mutate_rate = 'medium')"
   ]
  },
  {
   "cell_type": "code",
   "execution_count": 43,
   "metadata": {},
   "outputs": [
    {
     "data": {
      "application/vnd.jupyter.widget-view+json": {
       "model_id": "4f720f42d9bc4fff99863c14184bc72c",
       "version_major": 2,
       "version_minor": 0
      },
      "text/plain": [
       "Total Progress:   0%|          | 0/50 [00:00<?, ?it/s]"
      ]
     },
     "metadata": {},
     "output_type": "display_data"
    },
    {
     "name": "stdout",
     "output_type": "stream",
     "text": [
      "Analysis for super low mutate rate\n"
     ]
    },
    {
     "data": {
      "image/png": "[encoded data removed]",
      "text/plain": [
       "<Figure size 432x288 with 1 Axes>"
      ]
     },
     "metadata": {
      "needs_background": "light"
     },
     "output_type": "display_data"
    },
    {
     "name": "stdout",
     "output_type": "stream",
     "text": [
      "Average initial similarity for Midjourney Model V5.2: 0.47294514924287795\n",
      "Average optimized similarity for Midjourney Model V5.2: 0.6372504071891307\n",
      "Average similarity increase for Midjourney Model V5.2: 0.16430525794625278\n"
     ]
    },
    {
     "data": {
      "image/png": "[encoded data removed]",
      "text/plain": [
       "<Figure size 432x288 with 1 Axes>"
      ]
     },
     "metadata": {
      "needs_background": "light"
     },
     "output_type": "display_data"
    },
    {
     "name": "stdout",
     "output_type": "stream",
     "text": [
      "Average initial similarity for Niji Model V5: 0.4507384043186903\n",
      "Average optimized similarity for Niji Model V5: 0.6257925708591938\n",
      "Average similarity increase for Niji Model V5: 0.17505416654050354\n"
     ]
    }
   ],
   "source": [
    "most_similar_prompt_mat_mid_l, most_similar_prompt_mat_niji_l, most_similarity_mat_mid_l, most_similarity_mat_niji_l = analyze_similarity(mutate_rate = 'super low')"
   ]
  },
  {
   "cell_type": "code",
   "execution_count": 44,
   "metadata": {},
   "outputs": [
    {
     "data": {
      "application/vnd.jupyter.widget-view+json": {
       "model_id": "d8bb9a10272b4f4d86341a247b9c78df",
       "version_major": 2,
       "version_minor": 0
      },
      "text/plain": [
       "Total Progress:   0%|          | 0/50 [00:00<?, ?it/s]"
      ]
     },
     "metadata": {},
     "output_type": "display_data"
    },
    {
     "name": "stdout",
     "output_type": "stream",
     "text": [
      "Analysis for super high mutate rate\n"
     ]
    },
    {
     "data": {
      "image/png": "[encoded data removed]",
      "text/plain": [
       "<Figure size 432x288 with 1 Axes>"
      ]
     },
     "metadata": {
      "needs_background": "light"
     },
     "output_type": "display_data"
    },
    {
     "name": "stdout",
     "output_type": "stream",
     "text": [
      "Average initial similarity for Midjourney Model V5.2: 0.47294514924287795\n",
      "Average optimized similarity for Midjourney Model V5.2: 0.6420614056289196\n",
      "Average similarity increase for Midjourney Model V5.2: 0.1691162563860416\n"
     ]
    },
    {
     "data": {
      "image/png": "[encoded data removed]",
      "text/plain": [
       "<Figure size 432x288 with 1 Axes>"
      ]
     },
     "metadata": {
      "needs_background": "light"
     },
     "output_type": "display_data"
    },
    {
     "name": "stdout",
     "output_type": "stream",
     "text": [
      "Average initial similarity for Niji Model V5: 0.4507384043186903\n",
      "Average optimized similarity for Niji Model V5: 0.6302314487099648\n",
      "Average similarity increase for Niji Model V5: 0.17949304439127456\n"
     ]
    }
   ],
   "source": [
    "most_similar_prompt_mat_mid_h, most_similar_prompt_mat_niji_h, most_similarity_mat_mid_h, most_similarity_mat_niji_h = analyze_similarity(mutate_rate = 'super high')"
   ]
  }
 ],
 "metadata": {
  "kernelspec": {
   "display_name": "base",
   "language": "python",
   "name": "python3"
  },
  "language_info": {
   "codemirror_mode": {
    "name": "ipython",
    "version": 3
   },
   "file_extension": ".py",
   "mimetype": "text/x-python",
   "name": "python",
   "nbconvert_exporter": "python",
   "pygments_lexer": "ipython3",
   "version": "3.9.12"
  },
  "orig_nbformat": 4
 },
 "nbformat": 4,
 "nbformat_minor": 2
}
